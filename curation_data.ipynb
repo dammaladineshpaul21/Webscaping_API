{
 "cells": [
  {
   "cell_type": "code",
   "execution_count": 2,
   "id": "0fc6cae9",
   "metadata": {},
   "outputs": [],
   "source": [
    "import pandas as pd\n",
    "import json"
   ]
  },
  {
   "cell_type": "code",
   "execution_count": 46,
   "id": "e5a14c17",
   "metadata": {},
   "outputs": [],
   "source": [
    "with open(\"resources_file/spacial_carecter.json\") as file:\n",
    "    get_data = json.load(file)\n",
    "    create_df = pd.DataFrame(get_data, columns=[\"character\", \"letter_convertion\"])\n",
    "    make_table = create_df.set_index(\"character\")"
   ]
  },
  {
   "cell_type": "code",
   "execution_count": 57,
   "id": "018006c5",
   "metadata": {},
   "outputs": [
    {
     "data": {
      "text/plain": [
       "'&amp'"
      ]
     },
     "execution_count": 57,
     "metadata": {},
     "output_type": "execute_result"
    }
   ],
   "source": [
    "make_table[\"letter_convertion\"][\"&\"]"
   ]
  },
  {
   "cell_type": "code",
   "execution_count": null,
   "id": "6c8402a4",
   "metadata": {},
   "outputs": [],
   "source": []
  },
  {
   "cell_type": "code",
   "execution_count": null,
   "id": "9d3ac01f",
   "metadata": {},
   "outputs": [],
   "source": []
  }
 ],
 "metadata": {
  "kernelspec": {
   "display_name": "Python 3 (ipykernel)",
   "language": "python",
   "name": "python3"
  },
  "language_info": {
   "codemirror_mode": {
    "name": "ipython",
    "version": 3
   },
   "file_extension": ".py",
   "mimetype": "text/x-python",
   "name": "python",
   "nbconvert_exporter": "python",
   "pygments_lexer": "ipython3",
   "version": "3.9.13"
  }
 },
 "nbformat": 4,
 "nbformat_minor": 5
}

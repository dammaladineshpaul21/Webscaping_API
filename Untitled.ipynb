{
 "cells": [
  {
   "cell_type": "code",
   "execution_count": 5,
   "id": "6ad4efe0",
   "metadata": {},
   "outputs": [],
   "source": [
    "from collections import namedtuple"
   ]
  },
  {
   "cell_type": "code",
   "execution_count": 6,
   "id": "cd2bbf8f",
   "metadata": {},
   "outputs": [],
   "source": [
    "nameattribute = namedtuple(\"Payload\", [\"name\", \"address\"])"
   ]
  },
  {
   "cell_type": "code",
   "execution_count": 7,
   "id": "5f990ef9",
   "metadata": {},
   "outputs": [],
   "source": [
    "create_payload_obj = nameattribute(45, 67)"
   ]
  },
  {
   "cell_type": "code",
   "execution_count": 10,
   "id": "f63abf9a",
   "metadata": {},
   "outputs": [
    {
     "data": {
      "text/plain": [
       "112"
      ]
     },
     "execution_count": 10,
     "metadata": {},
     "output_type": "execute_result"
    }
   ],
   "source": [
    "create_payload_obj.name + create_payload_obj.address"
   ]
  },
  {
   "cell_type": "code",
   "execution_count": 11,
   "id": "52d26822",
   "metadata": {},
   "outputs": [],
   "source": [
    "def add_two_number(num1, num2):\n",
    "    return num1+num2"
   ]
  },
  {
   "cell_type": "code",
   "execution_count": 13,
   "id": "e629cbef",
   "metadata": {},
   "outputs": [
    {
     "data": {
      "text/plain": [
       "112"
      ]
     },
     "execution_count": 13,
     "metadata": {},
     "output_type": "execute_result"
    }
   ],
   "source": [
    "add_two_number(create_payload_obj.name, create_payload_obj.address)"
   ]
  },
  {
   "cell_type": "code",
   "execution_count": null,
   "id": "27b455a1",
   "metadata": {},
   "outputs": [],
   "source": []
  },
  {
   "cell_type": "code",
   "execution_count": null,
   "id": "5d4bd8ba",
   "metadata": {},
   "outputs": [],
   "source": []
  }
 ],
 "metadata": {
  "kernelspec": {
   "display_name": "Python 3 (ipykernel)",
   "language": "python",
   "name": "python3"
  },
  "language_info": {
   "codemirror_mode": {
    "name": "ipython",
    "version": 3
   },
   "file_extension": ".py",
   "mimetype": "text/x-python",
   "name": "python",
   "nbconvert_exporter": "python",
   "pygments_lexer": "ipython3",
   "version": "3.9.13"
  }
 },
 "nbformat": 4,
 "nbformat_minor": 5
}

{
 "cells": [
  {
   "cell_type": "code",
   "execution_count": 270,
   "id": "6a75fcf1",
   "metadata": {},
   "outputs": [],
   "source": [
    "def works_for_all(func):\n",
    "    x = func\n",
    "    def inner(*args, **kwargs):\n",
    "        print(\"I can decorate any function\", x)\n",
    "        return func(*args, **kwargs)\n",
    "    return inner"
   ]
  },
  {
   "cell_type": "code",
   "execution_count": 271,
   "id": "4e64c2ec",
   "metadata": {},
   "outputs": [],
   "source": [
    "@works_for_all\n",
    "def add_fun(a, b):\n",
    "    return a + b"
   ]
  },
  {
   "cell_type": "code",
   "execution_count": 272,
   "id": "2183bbe0",
   "metadata": {},
   "outputs": [
    {
     "name": "stdout",
     "output_type": "stream",
     "text": [
      "I can decorate any function <function add_fun at 0x1078a91f0>\n"
     ]
    },
    {
     "data": {
      "text/plain": [
       "25"
      ]
     },
     "execution_count": 272,
     "metadata": {},
     "output_type": "execute_result"
    }
   ],
   "source": [
    "add_fun(12, 13)"
   ]
  },
  {
   "cell_type": "code",
   "execution_count": null,
   "id": "bd7453ed",
   "metadata": {},
   "outputs": [],
   "source": []
  },
  {
   "cell_type": "code",
   "execution_count": null,
   "id": "8374bb69",
   "metadata": {},
   "outputs": [],
   "source": []
  },
  {
   "cell_type": "code",
   "execution_count": null,
   "id": "92f4d625",
   "metadata": {},
   "outputs": [],
   "source": []
  }
 ],
 "metadata": {
  "kernelspec": {
   "display_name": "Python 3 (ipykernel)",
   "language": "python",
   "name": "python3"
  },
  "language_info": {
   "codemirror_mode": {
    "name": "ipython",
    "version": 3
   },
   "file_extension": ".py",
   "mimetype": "text/x-python",
   "name": "python",
   "nbconvert_exporter": "python",
   "pygments_lexer": "ipython3",
   "version": "3.9.13"
  }
 },
 "nbformat": 4,
 "nbformat_minor": 5
}

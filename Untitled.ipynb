{
 "cells": [
  {
   "cell_type": "code",
   "execution_count": 20,
   "id": "b437f8bb",
   "metadata": {},
   "outputs": [],
   "source": [
    "data = [1, 2, 3, -2, -3, 0, 8]"
   ]
  },
  {
   "cell_type": "code",
   "execution_count": 21,
   "id": "4e1452c5",
   "metadata": {},
   "outputs": [],
   "source": [
    "for i in range(len(data)):\n",
    "    if data[i] < 0:\n",
    "        data[i] = 0"
   ]
  },
  {
   "cell_type": "code",
   "execution_count": 22,
   "id": "a63b74cf",
   "metadata": {},
   "outputs": [
    {
     "data": {
      "text/plain": [
       "[1, 2, 3, 0, 0, 0, 8]"
      ]
     },
     "execution_count": 22,
     "metadata": {},
     "output_type": "execute_result"
    }
   ],
   "source": [
    "data"
   ]
  },
  {
   "cell_type": "code",
   "execution_count": 23,
   "id": "1caa8378",
   "metadata": {},
   "outputs": [
    {
     "name": "stdout",
     "output_type": "stream",
     "text": [
      "0 1\n",
      "1 2\n",
      "2 3\n",
      "3 0\n",
      "4 0\n",
      "5 0\n",
      "6 8\n"
     ]
    }
   ],
   "source": [
    "for i, j in enumerate(data):\n",
    "    if j < 0:\n",
    "        "
   ]
  },
  {
   "cell_type": "code",
   "execution_count": 24,
   "id": "0422e1f0",
   "metadata": {},
   "outputs": [
    {
     "data": {
      "text/plain": [
       "[1, 2, 3, 0, 0, 0, 8]"
      ]
     },
     "execution_count": 24,
     "metadata": {},
     "output_type": "execute_result"
    }
   ],
   "source": [
    "data"
   ]
  },
  {
   "cell_type": "code",
   "execution_count": 29,
   "id": "caf1e062",
   "metadata": {},
   "outputs": [],
   "source": [
    "data = [5, 6, 7, 3, 65, -2, -4]"
   ]
  },
  {
   "cell_type": "code",
   "execution_count": 30,
   "id": "453f9912",
   "metadata": {},
   "outputs": [
    {
     "data": {
      "text/plain": [
       "[-4, -2, 3, 5, 6, 7, 65]"
      ]
     },
     "execution_count": 30,
     "metadata": {},
     "output_type": "execute_result"
    }
   ],
   "source": [
    "sorted(data)"
   ]
  },
  {
   "cell_type": "code",
   "execution_count": 132,
   "id": "f4a2f619",
   "metadata": {},
   "outputs": [],
   "source": [
    "data =  {\"name\":\"Dammala\", \"age\":23, \"address\":\"Hyd\", \"Sport\":\"Chess\"}\n",
    "data1 = {\"name\":\"komal\", \"age\":24}\n",
    "data2 = {\"name\":\"Mahesh\", \"age\":45, \"address\":\"Kushiguda\"}"
   ]
  },
  {
   "cell_type": "code",
   "execution_count": 133,
   "id": "d16a2544",
   "metadata": {},
   "outputs": [],
   "source": [
    "get_one_dict  = {**data, **data1, **data2}"
   ]
  },
  {
   "cell_type": "code",
   "execution_count": 136,
   "id": "39b434e1",
   "metadata": {},
   "outputs": [
    {
     "data": {
      "text/plain": [
       "{'name': 'Mahesh', 'age': 45, 'address': 'Kushiguda', 'Sport': 'Chess'}"
      ]
     },
     "execution_count": 136,
     "metadata": {},
     "output_type": "execute_result"
    }
   ],
   "source": [
    "get_one_dict"
   ]
  },
  {
   "cell_type": "code",
   "execution_count": 137,
   "id": "45767965",
   "metadata": {},
   "outputs": [],
   "source": [
    "my_gen = (i for i in range(100000))"
   ]
  },
  {
   "cell_type": "code",
   "execution_count": 138,
   "id": "9a5848bd",
   "metadata": {},
   "outputs": [
    {
     "data": {
      "text/plain": [
       "generator"
      ]
     },
     "execution_count": 138,
     "metadata": {},
     "output_type": "execute_result"
    }
   ],
   "source": [
    "type(my_gen)"
   ]
  },
  {
   "cell_type": "code",
   "execution_count": 139,
   "id": "17f1f798",
   "metadata": {},
   "outputs": [
    {
     "data": {
      "text/plain": [
       "0"
      ]
     },
     "execution_count": 139,
     "metadata": {},
     "output_type": "execute_result"
    }
   ],
   "source": [
    "next(my_gen)"
   ]
  },
  {
   "cell_type": "code",
   "execution_count": 471,
   "id": "9bf0e385",
   "metadata": {},
   "outputs": [
    {
     "data": {
      "text/plain": [
       "2"
      ]
     },
     "execution_count": 471,
     "metadata": {},
     "output_type": "execute_result"
    }
   ],
   "source": [
    "next(my_gen)"
   ]
  },
  {
   "cell_type": "code",
   "execution_count": 472,
   "id": "e07c847a",
   "metadata": {},
   "outputs": [],
   "source": [
    "import time\n",
    "import copy \n",
    "def get_list(name):\n",
    "    return name"
   ]
  },
  {
   "cell_type": "code",
   "execution_count": 473,
   "id": "97575fb4",
   "metadata": {},
   "outputs": [],
   "source": [
    "get_data = get_list((\"Munna\",\"Dammala\"))"
   ]
  },
  {
   "cell_type": "code",
   "execution_count": 474,
   "id": "c93100a7",
   "metadata": {},
   "outputs": [],
   "source": [
    "def get_random():\n",
    "    get_lst= [i for i in range(200)]\n",
    "    return get_lst"
   ]
  },
  {
   "cell_type": "code",
   "execution_count": 475,
   "id": "e4b2c20c",
   "metadata": {},
   "outputs": [
    {
     "data": {
      "text/plain": [
       "7.081031799316406e-05"
      ]
     },
     "execution_count": 475,
     "metadata": {},
     "output_type": "execute_result"
    }
   ],
   "source": [
    "str_time = time.time()\n",
    "data1 = get_random()\n",
    "end_time = time.time()\n",
    "end_time - str_time"
   ]
  },
  {
   "cell_type": "code",
   "execution_count": 476,
   "id": "92d6a910",
   "metadata": {},
   "outputs": [
    {
     "data": {
      "text/plain": [
       "0.00022721290588378906"
      ]
     },
     "execution_count": 476,
     "metadata": {},
     "output_type": "execute_result"
    }
   ],
   "source": [
    "str_time = time.time()\n",
    "data1 = get_random()\n",
    "data3 = copy.copy(data1)\n",
    "data2 = copy.copy(data3)\n",
    "data4 = copy.copy(data2)\n",
    "data5 = copy.copy(data4)\n",
    "data6 = copy.copy(data5)\n",
    "data7 = copy.copy(data6)\n",
    "\n",
    "end_time = time.time()\n",
    "end_time - str_time"
   ]
  },
  {
   "cell_type": "code",
   "execution_count": 513,
   "id": "81135310",
   "metadata": {},
   "outputs": [],
   "source": [
    "dct = {\"name\":\"Dammala\", \"age\":45, \"address\":\"Kushiguda\"}"
   ]
  },
  {
   "cell_type": "code",
   "execution_count": 514,
   "id": "3c47237c",
   "metadata": {},
   "outputs": [],
   "source": [
    "get_val = dct.get(\"age\", None)"
   ]
  },
  {
   "cell_type": "code",
   "execution_count": 515,
   "id": "c92b7685",
   "metadata": {},
   "outputs": [
    {
     "name": "stdout",
     "output_type": "stream",
     "text": [
      "Values has been found 45\n"
     ]
    }
   ],
   "source": [
    "if get_val == None:\n",
    "    print(f\"Values Cannot be found {get_val}\")\n",
    "else:\n",
    "    print(f\"Values has been found {get_val}\")"
   ]
  },
  {
   "cell_type": "code",
   "execution_count": 516,
   "id": "e7fcf2f9",
   "metadata": {},
   "outputs": [],
   "source": [
    "dct[\"name\"] = \"Name\""
   ]
  },
  {
   "cell_type": "code",
   "execution_count": 517,
   "id": "c2e8f55b",
   "metadata": {},
   "outputs": [
    {
     "data": {
      "text/plain": [
       "{'name': 'Name', 'age': 45, 'address': 'Kushiguda'}"
      ]
     },
     "execution_count": 517,
     "metadata": {},
     "output_type": "execute_result"
    }
   ],
   "source": [
    "dct"
   ]
  },
  {
   "cell_type": "code",
   "execution_count": 518,
   "id": "cb5d95b8",
   "metadata": {},
   "outputs": [],
   "source": [
    "dct[\"name\"] = \"Munna\""
   ]
  },
  {
   "cell_type": "code",
   "execution_count": 519,
   "id": "630f6736",
   "metadata": {},
   "outputs": [
    {
     "data": {
      "text/plain": [
       "{'name': 'Munna', 'age': 45, 'address': 'Kushiguda'}"
      ]
     },
     "execution_count": 519,
     "metadata": {},
     "output_type": "execute_result"
    }
   ],
   "source": [
    "dct"
   ]
  },
  {
   "cell_type": "code",
   "execution_count": 532,
   "id": "4767d9ef",
   "metadata": {},
   "outputs": [
    {
     "ename": "KeyError",
     "evalue": "'name'",
     "output_type": "error",
     "traceback": [
      "\u001b[0;31m---------------------------------------------------------------------------\u001b[0m",
      "\u001b[0;31mKeyError\u001b[0m                                  Traceback (most recent call last)",
      "Cell \u001b[0;32mIn [532], line 1\u001b[0m\n\u001b[0;32m----> 1\u001b[0m dct[\u001b[38;5;124m\"\u001b[39m\u001b[38;5;124mName\u001b[39m\u001b[38;5;124m\"\u001b[39m] \u001b[38;5;241m=\u001b[39m \u001b[43mdct\u001b[49m\u001b[43m[\u001b[49m\u001b[38;5;124;43m\"\u001b[39;49m\u001b[38;5;124;43mname\u001b[39;49m\u001b[38;5;124;43m\"\u001b[39;49m\u001b[43m]\u001b[49m\n\u001b[1;32m      2\u001b[0m \u001b[38;5;28;01mdel\u001b[39;00m dct[\u001b[38;5;124m\"\u001b[39m\u001b[38;5;124mname\u001b[39m\u001b[38;5;124m\"\u001b[39m]\n",
      "\u001b[0;31mKeyError\u001b[0m: 'name'"
     ]
    }
   ],
   "source": [
    "dct[\"Name\"] = dct[\"name\"]\n",
    "del dct[\"name\"]"
   ]
  },
  {
   "cell_type": "code",
   "execution_count": 530,
   "id": "9f80a11b",
   "metadata": {},
   "outputs": [
    {
     "data": {
      "text/plain": [
       "{'age': 45, 'address': 'Kushiguda', 'Name': 'Munna'}"
      ]
     },
     "execution_count": 530,
     "metadata": {},
     "output_type": "execute_result"
    }
   ],
   "source": [
    "dct"
   ]
  },
  {
   "cell_type": "code",
   "execution_count": 533,
   "id": "295ce802",
   "metadata": {},
   "outputs": [],
   "source": [
    "dct[\"location\"] = \"ECIL\""
   ]
  },
  {
   "cell_type": "code",
   "execution_count": 553,
   "id": "41e46ae3",
   "metadata": {},
   "outputs": [
    {
     "data": {
      "text/plain": [
       "{'age': 45, 'address': 'Kushiguda', 'Name': 'Munna', 'location': 'ECIL'}"
      ]
     },
     "execution_count": 553,
     "metadata": {},
     "output_type": "execute_result"
    }
   ],
   "source": [
    "dct"
   ]
  },
  {
   "cell_type": "code",
   "execution_count": 559,
   "id": "7fab0e3b",
   "metadata": {},
   "outputs": [
    {
     "data": {
      "text/plain": [
       "[('location', 'ECIL'),\n",
       " ('Name', 'Munna'),\n",
       " ('address', 'Kushiguda'),\n",
       " ('age', 45)]"
      ]
     },
     "execution_count": 559,
     "metadata": {},
     "output_type": "execute_result"
    }
   ],
   "source": [
    "list(reversed(dct.items()))"
   ]
  },
  {
   "cell_type": "code",
   "execution_count": 560,
   "id": "c4fcb910",
   "metadata": {},
   "outputs": [
    {
     "data": {
      "text/plain": [
       "{'age': 45, 'address': 'Kushiguda', 'Name': 'Munna', 'location': 'ECIL'}"
      ]
     },
     "execution_count": 560,
     "metadata": {},
     "output_type": "execute_result"
    }
   ],
   "source": [
    "dct"
   ]
  },
  {
   "cell_type": "code",
   "execution_count": 561,
   "id": "adf1b577",
   "metadata": {},
   "outputs": [],
   "source": [
    "dct1 = {\"name1\":\"Dammala\"}"
   ]
  },
  {
   "cell_type": "code",
   "execution_count": 562,
   "id": "5f252963",
   "metadata": {},
   "outputs": [],
   "source": [
    "dct.update(dct1)"
   ]
  },
  {
   "cell_type": "code",
   "execution_count": 563,
   "id": "362176c3",
   "metadata": {},
   "outputs": [
    {
     "data": {
      "text/plain": [
       "{'age': 45,\n",
       " 'address': 'Kushiguda',\n",
       " 'Name': 'Munna',\n",
       " 'location': 'ECIL',\n",
       " 'name1': 'Dammala'}"
      ]
     },
     "execution_count": 563,
     "metadata": {},
     "output_type": "execute_result"
    }
   ],
   "source": [
    "dct"
   ]
  },
  {
   "cell_type": "code",
   "execution_count": 564,
   "id": "8e97c52f",
   "metadata": {},
   "outputs": [
    {
     "data": {
      "text/plain": [
       "['__class__',\n",
       " '__class_getitem__',\n",
       " '__contains__',\n",
       " '__delattr__',\n",
       " '__delitem__',\n",
       " '__dir__',\n",
       " '__doc__',\n",
       " '__eq__',\n",
       " '__format__',\n",
       " '__ge__',\n",
       " '__getattribute__',\n",
       " '__getitem__',\n",
       " '__gt__',\n",
       " '__hash__',\n",
       " '__init__',\n",
       " '__init_subclass__',\n",
       " '__ior__',\n",
       " '__iter__',\n",
       " '__le__',\n",
       " '__len__',\n",
       " '__lt__',\n",
       " '__ne__',\n",
       " '__new__',\n",
       " '__or__',\n",
       " '__reduce__',\n",
       " '__reduce_ex__',\n",
       " '__repr__',\n",
       " '__reversed__',\n",
       " '__ror__',\n",
       " '__setattr__',\n",
       " '__setitem__',\n",
       " '__sizeof__',\n",
       " '__str__',\n",
       " '__subclasshook__',\n",
       " 'clear',\n",
       " 'copy',\n",
       " 'fromkeys',\n",
       " 'get',\n",
       " 'items',\n",
       " 'keys',\n",
       " 'pop',\n",
       " 'popitem',\n",
       " 'setdefault',\n",
       " 'update',\n",
       " 'values']"
      ]
     },
     "execution_count": 564,
     "metadata": {},
     "output_type": "execute_result"
    }
   ],
   "source": [
    "dir(dict)"
   ]
  },
  {
   "cell_type": "code",
   "execution_count": 571,
   "id": "9809efda",
   "metadata": {},
   "outputs": [
    {
     "data": {
      "text/plain": [
       "'ECIL'"
      ]
     },
     "execution_count": 571,
     "metadata": {},
     "output_type": "execute_result"
    }
   ],
   "source": [
    "dct.pop(\"location\")"
   ]
  },
  {
   "cell_type": "code",
   "execution_count": 577,
   "id": "9749563c",
   "metadata": {},
   "outputs": [],
   "source": [
    "dct.setdefault(\"Komal\", None)"
   ]
  },
  {
   "cell_type": "code",
   "execution_count": 578,
   "id": "3b564bee",
   "metadata": {},
   "outputs": [
    {
     "data": {
      "text/plain": [
       "{'age': 45, 'address': 'Kushiguda', 'Name': 'Munna', 'Komal': None}"
      ]
     },
     "execution_count": 578,
     "metadata": {},
     "output_type": "execute_result"
    }
   ],
   "source": [
    "dct"
   ]
  },
  {
   "cell_type": "code",
   "execution_count": 579,
   "id": "3537d7b0",
   "metadata": {},
   "outputs": [
    {
     "ename": "TypeError",
     "evalue": "sorted expected 1 argument, got 0",
     "output_type": "error",
     "traceback": [
      "\u001b[0;31m---------------------------------------------------------------------------\u001b[0m",
      "\u001b[0;31mTypeError\u001b[0m                                 Traceback (most recent call last)",
      "Cell \u001b[0;32mIn [579], line 1\u001b[0m\n\u001b[0;32m----> 1\u001b[0m \u001b[38;5;28;43msorted\u001b[39;49m\u001b[43m(\u001b[49m\u001b[43m)\u001b[49m\n",
      "\u001b[0;31mTypeError\u001b[0m: sorted expected 1 argument, got 0"
     ]
    }
   ],
   "source": [
    "sorted()"
   ]
  },
  {
   "cell_type": "code",
   "execution_count": 583,
   "id": "5281cb31",
   "metadata": {},
   "outputs": [],
   "source": [
    "dct = [{'age': 45, 'address': 'Kushiguda', 'Name': 'Munna', 'Komal': None},\n",
    "       {'age': 1, 'address': 'hyd', 'Name': 'Munna', 'Komal': None},\n",
    "       {'age':-1, 'address': 'Sec', 'Name': 'Munna', 'Komal': None},\n",
    "       {'age': 35, 'address': 'GRI', 'Name': 'Munna', 'Komal': None}]"
   ]
  },
  {
   "cell_type": "code",
   "execution_count": 584,
   "id": "69301bcf",
   "metadata": {},
   "outputs": [
    {
     "data": {
      "text/plain": [
       "[{'age': -1, 'address': 'Sec', 'Name': 'Munna', 'Komal': None},\n",
       " {'age': 1, 'address': 'hyd', 'Name': 'Munna', 'Komal': None},\n",
       " {'age': 35, 'address': 'GRI', 'Name': 'Munna', 'Komal': None},\n",
       " {'age': 45, 'address': 'Kushiguda', 'Name': 'Munna', 'Komal': None}]"
      ]
     },
     "execution_count": 584,
     "metadata": {},
     "output_type": "execute_result"
    }
   ],
   "source": [
    "sorted(dct, key = lambda x:x[\"age\"])"
   ]
  },
  {
   "cell_type": "code",
   "execution_count": 596,
   "id": "e5598d72",
   "metadata": {},
   "outputs": [],
   "source": [
    "dct = {'age': -1, 'address': 'Sec', 'Name': 'Munna', 'Komal': None}"
   ]
  },
  {
   "cell_type": "code",
   "execution_count": 604,
   "id": "e92d76db",
   "metadata": {},
   "outputs": [],
   "source": [
    "test_dict2 = {}\n",
    "for key in reversed(dct):\n",
    "    test_dict2[key] = dct[key]\n",
    "    "
   ]
  },
  {
   "cell_type": "code",
   "execution_count": 605,
   "id": "333ad4f0",
   "metadata": {},
   "outputs": [
    {
     "data": {
      "text/plain": [
       "{'Komal': None, 'Name': 'Munna', 'address': 'Sec', 'age': -1}"
      ]
     },
     "execution_count": 605,
     "metadata": {},
     "output_type": "execute_result"
    }
   ],
   "source": [
    "test_dict2"
   ]
  },
  {
   "cell_type": "code",
   "execution_count": null,
   "id": "3890dcc0",
   "metadata": {},
   "outputs": [],
   "source": []
  }
 ],
 "metadata": {
  "kernelspec": {
   "display_name": "Python 3 (ipykernel)",
   "language": "python",
   "name": "python3"
  },
  "language_info": {
   "codemirror_mode": {
    "name": "ipython",
    "version": 3
   },
   "file_extension": ".py",
   "mimetype": "text/x-python",
   "name": "python",
   "nbconvert_exporter": "python",
   "pygments_lexer": "ipython3",
   "version": "3.9.13"
  }
 },
 "nbformat": 4,
 "nbformat_minor": 5
}
